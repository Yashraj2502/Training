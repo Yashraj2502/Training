{
 "cells": [
  {
   "cell_type": "code",
   "execution_count": 1,
   "id": "f531c6ce",
   "metadata": {},
   "outputs": [],
   "source": [
    "# https://www.youtube.com/watch?v=ADV-AjAXHdc\n",
    "\n",
    "import cv2"
   ]
  },
  {
   "cell_type": "code",
   "execution_count": 2,
   "id": "72c1a32e",
   "metadata": {},
   "outputs": [],
   "source": [
    "# https://stackoverflow.com/questions/28816046/displaying-different-images-with-actual-size-in-matplotlib-subplot\n",
    "\n",
    "import matplotlib as mpl\n",
    "import matplotlib.pyplot as plt\n",
    "\n",
    "def display(im_path):\n",
    "\n",
    "#     dpi = 80\n",
    "    depth = 1\n",
    "    dpi = mpl.rcParams['figure.dpi']   # Apparently the default dpi changed to 100, so to be safe in the future you can directly access the dpi from the rcParams\n",
    "    im_data = plt.imread(im_path)\n",
    "    height, width, depth = im_data.shape\n",
    "\n",
    "    # What size does the figure need to be in inches to fit the image?\n",
    "    figsize = width / float(dpi), height / float(dpi)\n",
    "\n",
    "    # Create a figure of the right size with one axes that takes up the full figure\n",
    "    fig = plt.figure(figsize=figsize)\n",
    "    ax = fig.add_axes([0, 0, 1, 1])\n",
    "\n",
    "    # Hide spines, ticks, etc.\n",
    "    ax.axis('off')\n",
    "\n",
    "    # Display the image.\n",
    "    ax.imshow(im_data, cmap='gray')\n",
    "\n",
    "    plt.show()\n",
    "    \n",
    "def display_without_depth(im_path):\n",
    "#     dpi = 80\n",
    "    dpi = mpl.rcParams['figure.dpi']   # Apparently the default dpi changed to 100, so to be safe in the future you can directly access the dpi from the rcParams\n",
    "    im_data = plt.imread(im_path)\n",
    "    height, width = im_data.shape\n",
    "\n",
    "    # What size does the figure need to be in inches to fit the image?\n",
    "    figsize = width / float(dpi), height / float(dpi)\n",
    "\n",
    "    # Create a figure of the right size with one axes that takes up the full figure\n",
    "    fig = plt.figure(figsize=figsize)\n",
    "    ax = fig.add_axes([0, 0, 1, 1])\n",
    "\n",
    "    # Hide spines, ticks, etc.\n",
    "    ax.axis('off')\n",
    "\n",
    "    # Display the image.\n",
    "    ax.imshow(im_data, cmap='gray')\n",
    "\n",
    "    plt.show()"
   ]
  },
  {
   "cell_type": "code",
   "execution_count": 3,
   "id": "c8352856",
   "metadata": {
    "scrolled": true
   },
   "outputs": [],
   "source": [
    "# display(image_file)"
   ]
  },
  {
   "cell_type": "markdown",
   "id": "bb8680ed",
   "metadata": {},
   "source": [
    "# 01: Inverted Images"
   ]
  },
  {
   "cell_type": "code",
   "execution_count": 4,
   "id": "ca38c550",
   "metadata": {},
   "outputs": [],
   "source": [
    "def invert_img(img):\n",
    "    inverted_img = cv2.bitwise_not(img)\n",
    "    cv2.imwrite('../data/temp/inverted.jpeg', inverted_img)\n",
    "    display('../data/temp/inverted.jpeg')"
   ]
  },
  {
   "cell_type": "code",
   "execution_count": 5,
   "id": "13fc7e11",
   "metadata": {},
   "outputs": [],
   "source": [
    "# display('../data/temp/inverted.jpeg')"
   ]
  },
  {
   "cell_type": "markdown",
   "id": "62fa9330",
   "metadata": {},
   "source": [
    "# 02: Rescaling"
   ]
  },
  {
   "cell_type": "code",
   "execution_count": null,
   "id": "52e510b8",
   "metadata": {},
   "outputs": [],
   "source": []
  },
  {
   "cell_type": "code",
   "execution_count": null,
   "id": "d0e3b9ac",
   "metadata": {},
   "outputs": [],
   "source": []
  },
  {
   "cell_type": "markdown",
   "id": "42d6bd9a",
   "metadata": {},
   "source": [
    "# 03: Binarization"
   ]
  },
  {
   "cell_type": "code",
   "execution_count": 6,
   "id": "80c407f1",
   "metadata": {},
   "outputs": [],
   "source": [
    "# This will automatically convert our image file into grayscale\n",
    "def grayscale(image):\n",
    "    return cv2.cvtColor(image, cv2.COLOR_BGR2GRAY)"
   ]
  },
  {
   "cell_type": "code",
   "execution_count": 7,
   "id": "f7032a72",
   "metadata": {},
   "outputs": [],
   "source": [
    "# Mera toh error araha hai, tera run hoga toh dekh le\n",
    "\n",
    "# display(\"../data/temp/gray.jpeg\")"
   ]
  },
  {
   "cell_type": "code",
   "execution_count": 8,
   "id": "80dc764a",
   "metadata": {},
   "outputs": [],
   "source": [
    "def binarization(img):\n",
    "    gray_image = grayscale(img)\n",
    "    cv2.imwrite(\"../data/temp/gray.jpeg\", gray_image)\n",
    "    # display_without_depth(\"../data/temp/gray.jpeg\")\n",
    "    display(\"../data/temp/gray.jpeg\")\n",
    "    \n",
    "    global im_bw\n",
    "    \n",
    "    # Threshold\n",
    "    thresh, im_bw = cv2.threshold(gray_image, 127, 255, cv2.THRESH_BINARY)\n",
    "    # Edit 127 & 255 as per the requirement\n",
    "\n",
    "    var = cv2.imwrite('../data/temp/bw_image.jpeg', im_bw)\n",
    "    # display_without_depth('../data/temp/bw_image.jpeg')\n",
    "    display('../data/temp/bw_image.jpeg')\n",
    "    return (im_bw)\n",
    "\n",
    "\n",
    "image_file = \"../data/complex1.jpg\"\n",
    "# image_file = \"../data/lastWednesday.jpg\"\n",
    "img = cv2.imread(image_file)"
   ]
  },
  {
   "cell_type": "code",
   "execution_count": 9,
   "id": "1cc61bb3",
   "metadata": {},
   "outputs": [],
   "source": [
    "# Same, yaha bhi mera run nahi ho raha hai... Tera ho raha hai toh dekh le\n",
    "\n",
    "# display('../data/temp/bw_image.jpeg')"
   ]
  },
  {
   "cell_type": "markdown",
   "id": "3fb9876a",
   "metadata": {},
   "source": [
    "# 04: Noise Removal"
   ]
  },
  {
   "cell_type": "code",
   "execution_count": 10,
   "id": "ad05aff0",
   "metadata": {},
   "outputs": [],
   "source": [
    "import numpy as np\n",
    "\n",
    "def noise_removal(image):\n",
    "    kernal = np.ones((1, 1), np.uint8)\n",
    "    image = cv2.dilate(image, kernal, iterations=1)\n",
    "    kernal = np.ones((1, 1), np.uint8)\n",
    "    image = cv2.erode(image, kernal, iterations=1)\n",
    "    image = cv2.morphologyEx(image, cv2.MORPH_CLOSE, kernal)\n",
    "    image = cv2.medianBlur(image, 1)\n",
    "    return (image)"
   ]
  },
  {
   "cell_type": "code",
   "execution_count": 11,
   "id": "1fb6274b",
   "metadata": {},
   "outputs": [],
   "source": [
    "def remove_noise(img):\n",
    "    # no_noise = noise_removal(binarization(img))\n",
    "    global no_noise\n",
    "    no_noise = noise_removal(im_bw)\n",
    "    var = cv2.imwrite('../data/temp/no_noise.jpeg', no_noise)\n",
    "    # display_without_depth('../data/temp/no_noise.jpeg')\n",
    "    display('../data/temp/no_noise.jpeg')\n",
    "    return (no_noise)\n",
    "\n",
    "# image_file = \"../data/lastWednesday.jpg\"\n",
    "# img = cv2.imread(image_file)\n",
    "# remove_noise(img)"
   ]
  },
  {
   "cell_type": "code",
   "execution_count": 12,
   "id": "f51f9859",
   "metadata": {},
   "outputs": [],
   "source": [
    "# Yaha bhi nahi hua\n",
    "\n",
    "# display('../data/temp/no_noise.jpeg')"
   ]
  },
  {
   "cell_type": "markdown",
   "id": "31802f48",
   "metadata": {},
   "source": [
    "# 05: Dilation and Erosion"
   ]
  },
  {
   "cell_type": "code",
   "execution_count": 13,
   "id": "8c1b2607",
   "metadata": {},
   "outputs": [],
   "source": [
    "def thin_font(image):\n",
    "    image = cv2.bitwise_not(image)\n",
    "    kernal = np.ones((2, 2), np.uint8)\n",
    "    image = cv2.erode(image, kernal, iterations=1)\n",
    "    image = cv2.bitwise_not(image)\n",
    "    return (image)\n",
    "\n",
    "def thick_font(image):\n",
    "    image = cv2.bitwise_not(image)\n",
    "    kernal = np.ones((2, 2), np.uint8)\n",
    "    image = cv2.dilate(image, kernal, iterations=1)\n",
    "    image = cv2.bitwise_not(image)\n",
    "    return (image)"
   ]
  },
  {
   "cell_type": "code",
   "execution_count": 14,
   "id": "34989f4e",
   "metadata": {},
   "outputs": [],
   "source": [
    "def erosion(img):\n",
    "    # eroded_image = thin_font(remove_noise(img))\n",
    "    eroded_image = thin_font(no_noise)\n",
    "    var = cv2.imwrite('../data/temp/eroded_image.jpeg', eroded_image)\n",
    "    print(var)\n",
    "    # display_without_depth('../data/temp/eroded_image.jpeg')\n",
    "    display('../data/temp/eroded_image.jpeg')\n",
    "    return (eroded_image)\n",
    "    \n",
    "# image_file = \"../data/good.jpg\"\n",
    "# img = cv2.imread(image_file)\n",
    "# erosion(img)"
   ]
  },
  {
   "cell_type": "code",
   "execution_count": 15,
   "id": "733d19ac",
   "metadata": {},
   "outputs": [],
   "source": [
    "# display_without_depth('../data/temp/eroded_image.jpeg')"
   ]
  },
  {
   "cell_type": "code",
   "execution_count": 16,
   "id": "bddfab69",
   "metadata": {},
   "outputs": [],
   "source": [
    "# dilated_image = thick_font(no_noise)\n",
    "# cv2.imwrite('../data/temp/dilated_image.jpg', dilated_image)\n",
    "\n",
    "def dilation(img):\n",
    "    dilated_image = thick_font(no_noise)\n",
    "    var = cv2.imwrite('../data/temp/dilated_image.jpg', dilated_image)\n",
    "    print(var)\n",
    "    # display_without_depth(\"../data/temp/dilated_image.jpg\")\n",
    "    display(\"../data/temp/dilated_image.jpg\")\n",
    "    return (dilated_image)\n",
    "\n",
    "# image_file = \"../data/good.jpg\"\n",
    "# img = cv2.imread(image_file)\n",
    "# dilation(img)"
   ]
  },
  {
   "cell_type": "code",
   "execution_count": 17,
   "id": "ebfb2c31",
   "metadata": {},
   "outputs": [],
   "source": [
    "# display(\"../data/temp/dilated_image.jpeg\")"
   ]
  },
  {
   "cell_type": "markdown",
   "id": "7bce8080",
   "metadata": {},
   "source": [
    "# 06: Rotation/Deskewing"
   ]
  },
  {
   "cell_type": "code",
   "execution_count": 18,
   "id": "8e2b6a4d",
   "metadata": {},
   "outputs": [],
   "source": [
    "# https://becominghuman.ai/how-to-automatically-deskew-straighten-a-text-image-using-opencv-a0c30aed83df\n",
    "\n",
    "# Calculate skew angle of an image\n",
    "def getSkewAngle(cvImage) -> float:\n",
    "    # Prep image, copy, convert to gray scale, blur, and threshold\n",
    "    newImage = cvImage.copy()\n",
    "    gray = cv2.cvtColor(newImage, cv2.COLOR_BGR2GRAY)\n",
    "    blur = cv2.GaussianBlur(gray, (9, 9), 0)\n",
    "    thresh = cv2.threshold(blur, 0, 255, cv2.THRESH_BINARY_INV + cv2.THRESH_OTSU)[1]\n",
    "\n",
    "    # Apply dilate to merge text into meaningful lines/paragraphs.\n",
    "    # Use larger kernel on X axis to merge characters into single line, cancelling out any spaces.\n",
    "    # But use smaller kernel on Y axis to separate between different blocks of text\n",
    "    kernel = cv2.getStructuringElement(cv2.MORPH_RECT, (30, 5))\n",
    "    dilate = cv2.dilate(thresh, kernel, iterations=2)\n",
    "\n",
    "    # Find all contours\n",
    "    contours, hierarchy = cv2.findContours(dilate, cv2.RETR_LIST, cv2.CHAIN_APPROX_SIMPLE)\n",
    "    contours = sorted(contours, key = cv2.contourArea, reverse = True)\n",
    "    for c in contours:\n",
    "        rect = cv2.boundingRect(c)\n",
    "        x, y, w, h = rect\n",
    "        cv2.rectangle(newImage, (x, y), (x+w, y+h), (0, 255, 0), 2)\n",
    "\n",
    "    # Find largest contour and surround in min area box\n",
    "    largestContour = contours[0]\n",
    "    print(len(contours))\n",
    "    minAreaRect = cv2.minAreaRect(largestContour)\n",
    "    cv2.imwrite(\"../data/temp/boxes.jpg\", newImage)\n",
    "\n",
    "    # Determine the angle. Convert it to the value that was originally used to obtain skewed image\n",
    "    angle = minAreaRect[-1]\n",
    "    if angle < -45:\n",
    "        angle = 90 + angle\n",
    "    return -1.0 * angle\n",
    "\n",
    "# Rotate the image around its center\n",
    "def rotateImage(cvImage, angle: float):\n",
    "    newImage = cvImage.copy()\n",
    "    (h, w) = newImage.shape[:2]\n",
    "    center = (w // 2, h // 2)\n",
    "    M = cv2.getRotationMatrix2D(center, angle, 1.0)\n",
    "    newImage = cv2.warpAffine(newImage, M, (w, h), flags=cv2.INTER_CUBIC, borderMode=cv2.BORDER_REPLICATE)\n",
    "    return newImage\n",
    "\n",
    "# Deskew image\n",
    "def deskew(cvImage):\n",
    "    angle = getSkewAngle(cvImage)\n",
    "    return rotateImage(cvImage, -1.0 * angle)"
   ]
  },
  {
   "cell_type": "code",
   "execution_count": 19,
   "id": "387e0931",
   "metadata": {},
   "outputs": [],
   "source": [
    "# fixed = deskew(new)\n",
    "# cv2.imwrite('../data/temp/rotated_fixed.jpg', fixed)\n",
    "\n",
    "def deskew_rotation(img):\n",
    "    fixed = deskew(img)\n",
    "    var = cv2.imwrite('../data/temp/rotated_fixed.jpg', fixed)\n",
    "    print(var)\n",
    "    display('../data/temp/rotated_fixed.jpg')\n",
    "    return (fixed)\n",
    "\n",
    "# image_file = \"../data/skewwed.jpg\"\n",
    "# img = cv2.imread(image_file)\n",
    "# deskew_rotation(img)"
   ]
  },
  {
   "cell_type": "code",
   "execution_count": 20,
   "id": "683e6fb1",
   "metadata": {},
   "outputs": [],
   "source": [
    "# display('../data/temp/rotated_fixed.jpg')"
   ]
  },
  {
   "cell_type": "markdown",
   "id": "7d96910c",
   "metadata": {},
   "source": [
    "# 07: Removing Borders "
   ]
  },
  {
   "cell_type": "code",
   "execution_count": 21,
   "id": "ae1bb474",
   "metadata": {},
   "outputs": [],
   "source": [
    "def remove_borders(image):\n",
    "    contours, heiarchy = cv2.findContours(image, cv2.RETR_EXTERNAL, cv2.CHAIN_APPROX_SIMPLE)\n",
    "    cntsSorted = sorted(contours, key=lambda x:cv2.contourArea(x))\n",
    "    cnt = cntsSorted[-1]\n",
    "    x, y, w, h = cv2.boundingRect(cnt)\n",
    "    crop = image[y:y+h, x:x+w]\n",
    "    return (crop)"
   ]
  },
  {
   "cell_type": "code",
   "execution_count": 22,
   "id": "d0d42a06",
   "metadata": {},
   "outputs": [],
   "source": [
    "def removing_borders(img):\n",
    "    global no_borders\n",
    "    no_borders = remove_borders(no_noise)\n",
    "    var = cv2.imwrite(\"../data/temp/no_borders.png\", no_borders)\n",
    "    print(var)\n",
    "    # display_without_depth('../data/temp/no_borders.png')\n",
    "    display('../data/temp/no_borders.png')\n",
    "    return (no_borders)\n",
    "\n",
    "# image_file = \"../data/lastWednesday.jpg\"\n",
    "# img = cv2.imread(image_file)\n",
    "# removing_borders(img)"
   ]
  },
  {
   "cell_type": "markdown",
   "id": "fe4cea52",
   "metadata": {},
   "source": [
    "# 08: Missing Borders"
   ]
  },
  {
   "cell_type": "code",
   "execution_count": 23,
   "id": "ec17af26",
   "metadata": {},
   "outputs": [],
   "source": [
    "def missing_border(img):\n",
    "    color = [255, 255, 255]\n",
    "    top, bottom, left, right = [150]*4\n",
    "    # image_with_border = cv2.copyMakeBorder(removing_borders(img), top, bottom, left, right, cv2.BORDER_CONSTANT, value=color)\n",
    "    image_with_border = cv2.copyMakeBorder(no_borders, top, bottom, left, right, cv2.BORDER_CONSTANT, value=color)\n",
    "    var = cv2.imwrite('../data/temp/image_with_border.jpg', image_with_border)\n",
    "    # display_without_depth('../data/temp/image_with_border.jpg')\n",
    "    display('../data/temp/image_with_border.jpg')\n",
    "    return (var)\n",
    "    \n",
    "    \n",
    "# image_file = \"../data/lastWednesday.jpg\"\n",
    "# img = cv2.imread(image_file)\n",
    "# missing_border(img)"
   ]
  },
  {
   "cell_type": "code",
   "execution_count": 24,
   "id": "813e40e3",
   "metadata": {},
   "outputs": [],
   "source": [
    "# display('../data/temp/image_with_border.jpg')"
   ]
  },
  {
   "cell_type": "markdown",
   "id": "54bab445",
   "metadata": {},
   "source": [
    "# 09: Integration\n"
   ]
  },
  {
   "cell_type": "code",
   "execution_count": 26,
   "id": "a3fd0fd2",
   "metadata": {},
   "outputs": [
    {
     "ename": "TypeError",
     "evalue": "binarization() takes 1 positional argument but 2 were given",
     "output_type": "error",
     "traceback": [
      "\u001b[1;31m---------------------------------------------------------------------------\u001b[0m",
      "\u001b[1;31mTypeError\u001b[0m                                 Traceback (most recent call last)",
      "Cell \u001b[1;32mIn [26], line 14\u001b[0m\n\u001b[0;32m     12\u001b[0m image_file \u001b[38;5;241m=\u001b[39m \u001b[38;5;124m\"\u001b[39m\u001b[38;5;124m../data/good.jpg\u001b[39m\u001b[38;5;124m\"\u001b[39m\n\u001b[0;32m     13\u001b[0m img \u001b[38;5;241m=\u001b[39m cv2\u001b[38;5;241m.\u001b[39mimread(image_file)\n\u001b[1;32m---> 14\u001b[0m \u001b[43mimageManipulation\u001b[49m\u001b[43m(\u001b[49m\u001b[43mimg\u001b[49m\u001b[43m)\u001b[49m\n\u001b[0;32m     15\u001b[0m \u001b[38;5;66;03m# display(image_file)\u001b[39;00m\n",
      "Cell \u001b[1;32mIn [26], line 2\u001b[0m, in \u001b[0;36mimageManipulation\u001b[1;34m(image)\u001b[0m\n\u001b[0;32m      1\u001b[0m \u001b[38;5;28;01mdef\u001b[39;00m \u001b[38;5;21mimageManipulation\u001b[39m(image):\n\u001b[1;32m----> 2\u001b[0m     image \u001b[38;5;241m=\u001b[39m \u001b[43mbinarization\u001b[49m\u001b[43m(\u001b[49m\u001b[43mimage\u001b[49m\u001b[43m,\u001b[49m\u001b[43m \u001b[49m\u001b[38;5;241;43m1\u001b[39;49m\u001b[43m)\u001b[49m\n\u001b[0;32m      3\u001b[0m     image \u001b[38;5;241m=\u001b[39m remove_noise(image)\n\u001b[0;32m      4\u001b[0m     image \u001b[38;5;241m=\u001b[39m erosion(image)\n",
      "\u001b[1;31mTypeError\u001b[0m: binarization() takes 1 positional argument but 2 were given"
     ]
    }
   ],
   "source": [
    "def imageManipulation(image):\n",
    "    image = binarization(image)\n",
    "    image = remove_noise(image)\n",
    "    image = erosion(image)\n",
    "    image = dilation(image)\n",
    "#     image = deskew_rotation(image)\n",
    "    image = removing_borders(image)\n",
    "    image = missing_border(image)\n",
    "    return image\n",
    "    \n",
    "    \n",
    "image_file = \"../data/good.jpg\"\n",
    "img = cv2.imread(image_file)\n",
    "imageManipulation(img)\n",
    "# display(image_file)"
   ]
  },
  {
   "cell_type": "code",
   "execution_count": null,
   "id": "bd136377",
   "metadata": {},
   "outputs": [],
   "source": []
  }
 ],
 "metadata": {
  "kernelspec": {
   "display_name": "Python 3 (ipykernel)",
   "language": "python",
   "name": "python3"
  },
  "language_info": {
   "codemirror_mode": {
    "name": "ipython",
    "version": 3
   },
   "file_extension": ".py",
   "mimetype": "text/x-python",
   "name": "python",
   "nbconvert_exporter": "python",
   "pygments_lexer": "ipython3",
   "version": "3.10.8"
  }
 },
 "nbformat": 4,
 "nbformat_minor": 5
}
